{
 "cells": [
  {
   "cell_type": "markdown",
   "id": "8388d40f",
   "metadata": {},
   "source": [
    "\n",
    "- Projeto ADA "
   ]
  },
  {
   "cell_type": "markdown",
   "id": "4c875bd1",
   "metadata": {},
   "source": [
    "Bibliotecas\n",
    "Eu precisei instalar previamente o \"Sopa bonita e o Dotenv\"\n",
    "Sobre o App\n",
    "Necessário Criar conta no Azure e minha chave."
   ]
  },
  {
   "cell_type": "markdown",
   "id": "180818d6",
   "metadata": {},
   "source": [
    "Conteúdo ajustado do Forum DIO\n",
    "Link original: https://web.dio.me/topics/projeto-traducao-de-artigos-passo-a-passo-1?back=%2Ftrack%2Fmicrosoft-certification-challenge-4-ai-102&page=1&order=oldest"
   ]
  },
  {
   "cell_type": "code",
   "execution_count": null,
   "id": "28754754",
   "metadata": {},
   "outputs": [
    {
     "ename": "SyntaxError",
     "evalue": "invalid syntax (2030830596.py, line 12)",
     "output_type": "error",
     "traceback": [
      "  \u001b[36mCell\u001b[39m\u001b[36m \u001b[39m\u001b[32mIn[2]\u001b[39m\u001b[32m, line 12\u001b[39m\n\u001b[31m    \u001b[39m\u001b[31mAZURE_OPENAI_KEY=Criar registrar\u001b[39m\n                           ^\n\u001b[31mSyntaxError\u001b[39m\u001b[31m:\u001b[39m invalid syntax\n"
     ]
    }
   ],
   "source": [
    "# Importando as bibliotecas e variáveis de sistema\n",
    "\n",
    "from bs4 import BeautifulSoup\n",
    "import requests, uuid, json\n",
    "import os\n",
    "from dotenv import load_dotenv\n",
    "\n",
    "# Carregar variáveis de ambiente do arquivo .env\n",
    "load_dotenv()\n",
    "azureai_endpoint = os.getenv(\"AZURE_ENDPOINT\")\n",
    "API_KEY = os.getenv(\"AZURE_OPENAI_KEY\")\n",
    "\n",
    "# Importante definir as variáveis de sistema dentro das variáveis de ambiente para não ter exposta a chave e endpoint.\n",
    "\n",
    "url=\"https://www.researchgate.net/publication/352702749_Galinha_Pintadinha_Runs_the_World_A_Made-for-Children_Brazilian_Cartoon_in_the_Global_Flow_of_Television_Content\"\n",
    "def extract_text(url):\n",
    "    response = requests.get(url)\n",
    "    if response.status_code == 200:\n",
    "        soup = BeautifulSoup(response.text, 'html.parser')\n",
    "        for script in soup([\"script\", \"style\"]):\n",
    "            script.decompose()\n",
    "        text = soup.get_text(\" \", strip=True)\n",
    "        return text\n",
    "    else:\n",
    "        print(\"Falha ao buscar a URL. Código de status:\", response.status_code)\n",
    "        return None\n",
    "extract_text(url)\n",
    "\n",
    "def traduzir_artigo(text, lang):\n",
    "    headers = {\n",
    "    \"Content-Type\": \"application/json\",\n",
    "    \"api-key\": API_KEY,\n",
    "    }\n",
    "    \n",
    "    # Definindo as instruções do agente e a sua formatação\n",
    "    payload = {\n",
    "      \"messages\": [\n",
    "        {\n",
    "          \"role\": \"system\",\n",
    "          \"content\": [\n",
    "            {\n",
    "              \"type\": \"text\",\n",
    "              \"text\": \"Você atua como tradutor de textos\"\n",
    "            }\n",
    "          ]\n",
    "        },\n",
    "        {\n",
    "          \"role\": \"user\",\n",
    "          \"content\": [\n",
    "            {\n",
    "              \"type\": \"text\",\n",
    "              \"text\": f\"traduza: {text} para o idioma {lang} e responda apenas com a tradução no formato markdown\"\n",
    "            }\n",
    "          ]\n",
    "        },    \n",
    "      ],\n",
    "      \"temperature\": 0.7,\n",
    "      \"top_p\": 0.95,\n",
    "      \"max_tokens\": 900\n",
    "    }\n",
    "    \n",
    "    ENDPOINT = azureai_endpoint\n",
    "    \n",
    "    # Enviando a requisição\n",
    "    try:\n",
    "        response = requests.post(ENDPOINT, headers=headers, json=payload)\n",
    "        response.raise_for_status()  \n",
    "        # Teste de resposta do HTTPError ou falha de requisição\n",
    "    except requests.RequestException as e:\n",
    "        raise SystemExit(f\"Falha ao enviar request. Erro: {e}\")\n",
    "    try:\n",
    "      data = response.json()\n",
    "    except ValueError:\n",
    "      raise SystemExit(\"Falha ao decodificar JSON da resposta\")\n",
    "\n",
    "    if not isinstance(data, dict) or 'choices' not in data or not data['choices']:\n",
    "      raise SystemExit(f\"Formato de resposta inesperado: {data}\")\n",
    "\n",
    "    # resposta válida recebida (pode descomentar para debug)\n",
    "    # print(\"Resposta recebida com sucesso\")\n",
    "    return (response.json()['choices'][0]['message']['content'])\n",
    "\n",
    "\n"
   ]
  },
  {
   "cell_type": "code",
   "execution_count": null,
   "id": "99603eab",
   "metadata": {},
   "outputs": [],
   "source": [
    "url = \"https://www.researchgate.net/publication/352702749_Galinha_Pintadinha_Runs_the_World_A_Made-for-Children_Brazilian_Cartoon_in_the_Global_Flow_of_Television_Content\"\n",
    "text = extract_text(url)\n",
    "artigo = traduzir_artigo(text,\"português\")\n",
    "print(artigo)"
   ]
  },
  {
   "cell_type": "code",
   "execution_count": null,
   "id": "d8977bcf",
   "metadata": {},
   "outputs": [],
   "source": []
  }
 ],
 "metadata": {
  "kernelspec": {
   "display_name": "Python 3",
   "language": "python",
   "name": "python3"
  },
  "language_info": {
   "codemirror_mode": {
    "name": "ipython",
    "version": 3
   },
   "file_extension": ".py",
   "mimetype": "text/x-python",
   "name": "python",
   "nbconvert_exporter": "python",
   "pygments_lexer": "ipython3",
   "version": "3.11.9"
  }
 },
 "nbformat": 4,
 "nbformat_minor": 5
}
